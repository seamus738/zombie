{
 "cells": [
  {
   "cell_type": "markdown",
   "id": "c4f3a4ac",
   "metadata": {},
   "source": [
    "<img src=\"https://www.usna.edu/WRC/_files/WRClogos/WRCE-logo-combined-01-crop.png\" width=\"200px\">\n",
    "\n",
    "# EW200- Intro To Programming: 12 Weeks Exam Practice Problems\n",
    "\n",
    "## Instructions:  \n",
    "•\tExam 2 is 50 minutes. \n",
    "\n",
    "•\tExam is closed book, closed notes, but you are allowed one 8.5” x 11” piece of paper with your own handwritten notes on both side (front and back) in addition to the one you did for the first exam. This will be checked by your instructor.\n",
    "\n",
    "•\tThe only material you are allowed to use is your handwritten notes. You must not access your computer or phone at any time.  \n",
    "\n",
    "•\tWhen finished, return your exam sheet and any handwritten notes to your instructor and leave the room quietly.\n",
    "\n",
    "## Exam Topics\n",
    "•\tFunctions\n",
    "\n",
    "•\tClasses\n",
    "\n",
    "•\tFiles and Exceptions\n",
    "\n",
    "•\tCode Troubleshoot\n",
    "\n",
    "\n",
    "Of course you need to revise Exam 6 topics (list, dictionnaries, ...) as you need these concepts to solve questions about the above topics."
   ]
  },
  {
   "cell_type": "markdown",
   "id": "66c77402",
   "metadata": {},
   "source": [
    "## Part 1: Functions"
   ]
  },
  {
   "cell_type": "markdown",
   "id": "d4c5b697",
   "metadata": {},
   "source": [
    "**A.** Create a function called `travelled_distance` that accepts two parameters called `speed` and `time`. This function should print an object traveled distance. For example if the object has a speed of 0.1 inches/s and travelled for 10s, then `travelled_distance` should print the line \n",
    "    \n",
    "    The object travelled 1.0 inches"
   ]
  },
  {
   "cell_type": "code",
   "execution_count": null,
   "id": "52c0d873",
   "metadata": {},
   "outputs": [],
   "source": [
    "\n",
    "\n",
    "\n"
   ]
  },
  {
   "cell_type": "markdown",
   "id": "489c81ad",
   "metadata": {},
   "source": [
    "**B.** Create another function called `time_convertion` that accepts two parameters called `time` and `time_unit`. This function should return the time converted from either hours `h` or minutes `min` to seconds, otherwise it should return the time in seconds if the time is given in seconds `s` or print a warning message about the time unit. Make sure your function run well using 3 different examples for each time unit."
   ]
  },
  {
   "cell_type": "code",
   "execution_count": null,
   "id": "5409a1e7",
   "metadata": {},
   "outputs": [],
   "source": [
    "\n",
    "\n",
    "\n",
    "\n",
    "\n",
    "\n",
    "\n",
    "\n"
   ]
  },
  {
   "cell_type": "markdown",
   "id": "4ff770d5",
   "metadata": {},
   "source": [
    "**C.** Modify the function `travelled_distance` above to accept another string parameters called `time_unit`, check for the time units, convert to the appropriate unit prior to computing the travelled distance using the `time_convertion` function. Note add a statement to prevent processing the travelled distance if time unit is inconrrect."
   ]
  },
  {
   "cell_type": "code",
   "execution_count": null,
   "id": "a3e9b67d",
   "metadata": {},
   "outputs": [],
   "source": [
    "\n",
    "\n",
    "\n",
    "\n"
   ]
  },
  {
   "cell_type": "markdown",
   "id": "3182476d",
   "metadata": {},
   "source": [
    "**D.** Use a loop to call the newly created `travelled_distance` function to calculate the travelled distance for an object that has a speed of .1 inches/s and has made the following trips saved as a dictionnary\n",
    "```trips_dict = {\n",
    "        'trip1' : {'time': 10, 'unit': 's'}, \n",
    "        'trip2' : {'time': 10, 'unit': 'min'}, \n",
    "        'trip3' : {'time': 10, 'unit': 'h'}\n",
    "        }\n",
    "```"
   ]
  },
  {
   "cell_type": "code",
   "execution_count": null,
   "id": "85426f93",
   "metadata": {},
   "outputs": [],
   "source": [
    "\n",
    "\n",
    "\n",
    "\n",
    "\n",
    "\n"
   ]
  },
  {
   "cell_type": "markdown",
   "id": "46929118",
   "metadata": {},
   "source": [
    "**E.** Write a function that extract each value inside the main dictionary `trips_dict` above and return a list of dictionary values as \n",
    "\n",
    "```trips_list = [{'time': 10, 'unit': 's'}, {'time': 10, 'unit': 'min'}, {'time': 10, 'unit': 'h'}]```"
   ]
  },
  {
   "cell_type": "code",
   "execution_count": null,
   "id": "79674243",
   "metadata": {},
   "outputs": [],
   "source": [
    "\n",
    "\n",
    "\n",
    "\n",
    "\n"
   ]
  },
  {
   "cell_type": "markdown",
   "id": "b3199d9d",
   "metadata": {},
   "source": [
    "**F.** Write a loop that will go over the list of trips saved in `trips_list` to calculate and print out the sum of all travelled times in seconds using the function `time_convertion` for all trips made by the object in the list."
   ]
  },
  {
   "cell_type": "code",
   "execution_count": null,
   "id": "ad23941d",
   "metadata": {},
   "outputs": [],
   "source": [
    "\n",
    "\n",
    "\n",
    "\n",
    "\n",
    "\n",
    "\n",
    "\n",
    "\n"
   ]
  },
  {
   "cell_type": "markdown",
   "id": "61273d78",
   "metadata": {},
   "source": [
    "**G.** Assume that you have saved all functions made above `travelled_distance` and `time_convertion`,   to the same python file named `travelled_distance_method.py`, show a method to import the method defined to perform the calculations the travelled distance and time convertion."
   ]
  },
  {
   "cell_type": "code",
   "execution_count": null,
   "id": "db9680dd",
   "metadata": {},
   "outputs": [],
   "source": [
    "\n",
    "\n",
    "\n",
    "\n",
    "\n",
    "\n"
   ]
  },
  {
   "cell_type": "markdown",
   "id": "a48df121",
   "metadata": {},
   "source": [
    "**H.** Assume you are the software Engineer of a company and are given the function below that stores information about a car in a dictionary. One of your employee complains about the code not working. Can you help in fixing the issues?\n",
    "\n",
    "```\n",
    "def make_car(manufacturer, model, **options) \n",
    "    \"\"\"Make a dictionary representing a car.\"\"\"\n",
    "    car_dict = {\n",
    "        'manufacturer': manufacturer.title(),\n",
    "        'model': model.title(),\n",
    "        }\n",
    "    for option, value in options.values(): \n",
    "        car_dict[option] = value\n",
    "\n",
    "    return car_dict\n",
    "\n",
    "my_outback = make_car('subaru', 'outback', color='blue', tow_package=True)\n",
    "print(my_outback)\n",
    "\n",
    "my_old_accord = make_car('honda', 'accord', year=1991, color='white',\n",
    "        headlights='popup')\n",
    "print(my_old_accord)\n",
    "```\n",
    "\n",
    "The code must output:\n",
    "\n",
    "{'manufacturer': 'Subaru', 'model': 'Outback', 'color': 'blue', 'tow_package': True}\n",
    "{'manufacturer': 'Honda', 'model': 'Accord', 'year': 1991, 'color': 'white', 'headlights': 'popup'}"
   ]
  },
  {
   "cell_type": "code",
   "execution_count": null,
   "id": "c76c5cb8",
   "metadata": {},
   "outputs": [],
   "source": [
    "\n",
    "\n",
    "\n",
    "\n",
    "\n",
    "\n",
    "\n"
   ]
  },
  {
   "cell_type": "markdown",
   "id": "6cbb82a0",
   "metadata": {},
   "source": [
    "## Part 2: Classes"
   ]
  },
  {
   "cell_type": "markdown",
   "id": "081615dd",
   "metadata": {},
   "source": [
    "**A.** Create a class named Person, use the class constructor to assign values for name and age. Create two instances of the Person class."
   ]
  },
  {
   "cell_type": "code",
   "execution_count": null,
   "id": "c9326743",
   "metadata": {},
   "outputs": [],
   "source": [
    "\n",
    "\n",
    "\n",
    "\n",
    "\n",
    "\n",
    "\n",
    "\n"
   ]
  },
  {
   "cell_type": "markdown",
   "id": "1254b34b",
   "metadata": {},
   "source": [
    "In the class created above, what parameter is the current instance of the class and how it is usefull for a class? What will happen if you replace the name `self` by something else? \n"
   ]
  },
  {
   "cell_type": "markdown",
   "id": "c67d1ba9",
   "metadata": {},
   "source": [
    "*The self parameter is a reference to the current instance of the class, and is used to access variables that belongs to the class. The name self can be replaced by any other name.*"
   ]
  },
  {
   "cell_type": "markdown",
   "id": "297799bb",
   "metadata": {},
   "source": [
    "**B.**  Add a method `greet` to the above class to great the person with an optional greetings argument of your choice named `greetings`. Note method `greet` should print a message as `John, hello!`. Create an instance of the Person class and use it to greet the person using teh default greeting message and a different one."
   ]
  },
  {
   "cell_type": "code",
   "execution_count": null,
   "id": "2aaf4a78",
   "metadata": {},
   "outputs": [],
   "source": [
    "\n",
    "\n",
    "\n",
    "\n",
    "\n",
    "\n",
    "\n",
    "\n",
    "\n",
    "\n"
   ]
  },
  {
   "cell_type": "markdown",
   "id": "29f0c24f",
   "metadata": {},
   "source": [
    "**C.**  Add a method `info` to the above class to print all informations about the person as `John, Hi, you are young` if person age is less than 30 otherwise print out `John, Hi, you are young`. Note that the new method must use the method `greet` to print out the greetings. Create an instance of Person class and use the newly created method to display either messages."
   ]
  },
  {
   "cell_type": "code",
   "execution_count": null,
   "id": "68f9b4f4",
   "metadata": {},
   "outputs": [],
   "source": [
    "\n",
    "\n",
    "\n",
    "\n",
    "\n",
    "\n",
    "\n",
    "\n"
   ]
  },
  {
   "cell_type": "markdown",
   "id": "0450433d",
   "metadata": {},
   "source": [
    "**D.**  How can you change the code in **C.** to print out a different greetings while still printing out a default greetings? After changing the code, create an instance of the Person class and use appropriate lines of codes to display a message including a greeting different from the default one."
   ]
  },
  {
   "cell_type": "code",
   "execution_count": null,
   "id": "cee08a43",
   "metadata": {},
   "outputs": [],
   "source": [
    "\n",
    "\n",
    "\n",
    "\n",
    "\n",
    "\n",
    "\n",
    "\n",
    "\n",
    "\n",
    "\n",
    "\n"
   ]
  },
  {
   "cell_type": "markdown",
   "id": "78e4e5b3",
   "metadata": {},
   "source": [
    "---\n",
    "\n",
    "### C. Class to handle boxing match\n",
    "\n",
    "**C1.** Write a class called `Boxer` that has two state arguments `name` and `salary_rate`. "
   ]
  },
  {
   "cell_type": "code",
   "execution_count": null,
   "id": "f0c94b10",
   "metadata": {},
   "outputs": [],
   "source": [
    "\n",
    "\n",
    "\n",
    "\n",
    "\n",
    "\n",
    "\n",
    "\n",
    "\n"
   ]
  },
  {
   "cell_type": "markdown",
   "id": "1fa1d8c3",
   "metadata": {},
   "source": [
    "**C2.** Create two boxing fighters objects, *Tyson Fury* teh current boxing heavy weight champion with a salary rate of 70% of the total fighters pay and *Francis Nganou* former UFC heay weight champion with a salary rate of 30% of the the total fighters pay which for now is unknown."
   ]
  },
  {
   "cell_type": "code",
   "execution_count": null,
   "id": "05d503af",
   "metadata": {},
   "outputs": [],
   "source": [
    "\n",
    "\n",
    "\n",
    "\n",
    "\n",
    "\n",
    "\n",
    "\n",
    "\n"
   ]
  },
  {
   "cell_type": "markdown",
   "id": "812d8d3f",
   "metadata": {},
   "source": [
    "**C3.** Create a class named `Fight` with two arguments denoted `organizer` to identify the organization (Saudi's GEA, WBA, WBC, IBF, and WBO) and `fight_type` to identify if it is a title fight or not. \n",
    "\n",
    "- The state variable `organizer` must take a default value `WBC` in the __init__ method (constructor).\n",
    "- In the __init__ method, create a new instance variable named `fighters` as an empty list. Note that `fighters` is not a class argument. \n",
    "- Add a class method named `add_fighters` with an argument named `fighter` which adds to the `fighters` list a new boxer object created in C2.\n",
    "- Add another class method named `fighters_paycheck` that requires an input argument `total_paycheck` with the total fighters pay in dollars and calculate and print each fighter paycheck for a given fight event. \n",
    "\n",
    "**Example of a print out**: Tyson Fury paycheck for the Saudi's GEA no title fight is 70 millions."
   ]
  },
  {
   "cell_type": "code",
   "execution_count": null,
   "id": "c78ccf07",
   "metadata": {},
   "outputs": [],
   "source": [
    "\n",
    "\n",
    "\n",
    "\n",
    "\n",
    "\n",
    "\n",
    "\n",
    "\n",
    "\n",
    "\n",
    "\n",
    "\n",
    "\n",
    "\n",
    "\n",
    "\n",
    "\n",
    "\n"
   ]
  },
  {
   "cell_type": "markdown",
   "id": "91d8fa77",
   "metadata": {},
   "source": [
    "**C4.** Using the class `Fight` above:\n",
    "- Create a *Saudi's GEA* no title boxing fight with the two boxers from **C2.** \n",
    "- Call the method `fighters_paycheck` to print out each fighter paycheck given that that the total fighters pay for the event is $100 millions."
   ]
  },
  {
   "cell_type": "code",
   "execution_count": null,
   "id": "03f3870a",
   "metadata": {},
   "outputs": [],
   "source": [
    "\n",
    "\n",
    "\n",
    "\n",
    "\n",
    "\n",
    "\n",
    "\n",
    "\n"
   ]
  },
  {
   "cell_type": "markdown",
   "id": "8b3ff114",
   "metadata": {},
   "source": [
    "# Part 3: Code Troubleshooting"
   ]
  },
  {
   "cell_type": "markdown",
   "id": "ef6990fe",
   "metadata": {},
   "source": [
    "**D1.** Spot errors in the code below\n",
    "```\n",
    "class Restaurant():\n",
    "    \"\"\"A class representing a restaurant.\"\"\"\n",
    "\n",
    "    def __int__(self, name, cuisine_type):\n",
    "        \"\"\"Initialize the restaurant.\"\"\"\n",
    "        self.name = name.title()\n",
    "        self.cuisine_type = cuisine_type\n",
    "\n",
    "    def describe_restaurant(selfy):\n",
    "        \"\"\"Display a summary of the restaurant.\"\"\"\n",
    "        msg = f\"{self.name} serves wonderful {self.cuisine_type}.\"\n",
    "        print(f\"\\n{msg}\")\n",
    "\n",
    "    def open_restaurant(self):\n",
    "        \"\"\"Display a message that the restaurant is open.\"\"\"\n",
    "        msg = f\"{name} is open. Come on in!\"\n",
    "        print(f\"\\n{self.msg}\")\n",
    "\n",
    "restaurant = Restaurant('the maestro', 'hot-dog')\n",
    "print(restaurant.name)\n",
    "print(restaurant.cuisine_type)\n",
    "\n",
    "restaurant.describe_restaurant()\n",
    "restaurant.open_restaurant()\n",
    "```"
   ]
  },
  {
   "cell_type": "code",
   "execution_count": null,
   "id": "473835dc",
   "metadata": {},
   "outputs": [],
   "source": [
    "\n",
    "\n",
    "\n",
    "\n",
    "\n",
    "\n",
    "\n",
    "\n",
    "\n",
    "\n"
   ]
  },
  {
   "attachments": {
    "image.png": {
     "image/png": "[encoded data removed]"
    }
   },
   "cell_type": "markdown",
   "id": "3ce4f734",
   "metadata": {},
   "source": [
    "**D2.** What is wrong in the following code? Correct it to make it works.\n",
    "![image.png](attachment:image.png)"
   ]
  },
  {
   "cell_type": "code",
   "execution_count": null,
   "id": "8b9d609e",
   "metadata": {},
   "outputs": [],
   "source": [
    "\n",
    "\n",
    "\n",
    "\n"
   ]
  },
  {
   "cell_type": "markdown",
   "id": "ccc8364d",
   "metadata": {},
   "source": [
    "# Part 4: File and Exception"
   ]
  },
  {
   "cell_type": "markdown",
   "id": "88c514e3",
   "metadata": {},
   "source": [
    "**E1.** Write the single line of code to create a file named \"myfile.txt\" in writting mode"
   ]
  },
  {
   "cell_type": "code",
   "execution_count": null,
   "id": "00649c5e",
   "metadata": {},
   "outputs": [],
   "source": [
    "\n",
    "\n",
    "\n",
    "\n"
   ]
  },
  {
   "cell_type": "markdown",
   "id": "c1d58233",
   "metadata": {},
   "source": [
    "**E2.** Write the single line of code to write the line of text \"EW200 intro to computer vision\". Consider that the file named \"myfile.txt\" is already openned. Make sure that after the text is written the cursor is placed on a new line."
   ]
  },
  {
   "cell_type": "code",
   "execution_count": null,
   "id": "2431c1b1",
   "metadata": {},
   "outputs": [],
   "source": [
    "\n",
    "\n",
    "\n",
    "\n"
   ]
  },
  {
   "cell_type": "markdown",
   "id": "371dc44d",
   "metadata": {},
   "source": [
    "**E3.** Write the single line of code to close the file named \"myfile.txt\""
   ]
  },
  {
   "cell_type": "code",
   "execution_count": null,
   "id": "32e0df8c",
   "metadata": {},
   "outputs": [],
   "source": [
    "\n",
    "\n",
    "\n",
    "\n"
   ]
  },
  {
   "cell_type": "markdown",
   "id": "f6b3768e",
   "metadata": {},
   "source": [
    "**E4.** Write the lines of code that will open up the file named \"myfile.txt\" in order to add a new lines of text containing the text \"Midshipmen 3rd class Your_First Your_Last_Name\". Note that your code must automatically close after writting the new line of text."
   ]
  },
  {
   "cell_type": "code",
   "execution_count": null,
   "id": "f5d291a8",
   "metadata": {},
   "outputs": [],
   "source": [
    "\n",
    "\n",
    "\n",
    "\n"
   ]
  },
  {
   "cell_type": "markdown",
   "id": "06ddd9e2",
   "metadata": {},
   "source": [
    "**E5.** The code print(100/0) return an error and stop the program. Add an appropriate exemption to handle the error and avoid stopping the code. Your code should print out an appropriate warning message."
   ]
  },
  {
   "cell_type": "code",
   "execution_count": null,
   "id": "f8f2ae3d",
   "metadata": {},
   "outputs": [],
   "source": [
    "\n",
    "\n",
    "\n"
   ]
  },
  {
   "attachments": {
    "image.png": {
     "image/png": "[encoded data removed]"
    }
   },
   "cell_type": "markdown",
   "id": "ecdbe288",
   "metadata": {},
   "source": [
    "**E6.** The following code is missing an exception Keyworld to properly works. Can you tell what exeption should be considered?\n",
    "\n",
    "![image.png](attachment:image.png)"
   ]
  },
  {
   "cell_type": "code",
   "execution_count": null,
   "id": "45dc31b3",
   "metadata": {},
   "outputs": [],
   "source": [
    "\n",
    "\n",
    "\n",
    "\n"
   ]
  }
 ],
 "metadata": {
  "kernelspec": {
   "display_name": "Python 3 (ipykernel)",
   "language": "python",
   "name": "python3"
  },
  "language_info": {
   "codemirror_mode": {
    "name": "ipython",
    "version": 3
   },
   "file_extension": ".py",
   "mimetype": "text/x-python",
   "name": "python",
   "nbconvert_exporter": "python",
   "pygments_lexer": "ipython3",
   "version": "3.11.3"
  }
 },
 "nbformat": 4,
 "nbformat_minor": 5
}
